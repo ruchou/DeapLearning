{
 "cells": [
  {
   "cell_type": "heading",
   "metadata": {},
   "level": 2,
   "source": [
    "import pandas as pd\n",
    "import matplotlib.pyplot as plt\n",
    "import seaborn as sns\n",
    "\n",
    "df_load = pd.read_csv('https://nthu-datalab.github.io/ml/labs/02_EDA_PCA/gen_dataset.csv')\n",
    "\n",
    "X_load = df_load.drop('Class label', 1)\n",
    "Y_load = df_load['Class label']\n",
    "\n",
    "df_load.head()"
   ]
  },
  {
   "cell_type": "code",
   "execution_count": 2,
   "metadata": {},
   "outputs": [],
   "source": [
    "import numpy as np\n",
    "from sklearn.preprocessing import StandardScaler\n",
    "\n",
    "# Z-normalize data\n",
    "sc = StandardScaler()\n",
    "Z = sc.fit_transform(X_load)\n",
    "# Estimate the correlation matrix\n",
    "R = np.dot(Z.T, Z) / df_load.shape[0]\n",
    "\n",
    "#calculate the eigen values, eigen vectors\n",
    "eigen_vals, eigen_vecs = np.linalg.eigh(R)\n",
    "\n",
    "# Make a list of (eigenvalue, eigenvector) tuples\n",
    "eigen_pairs = [(np.abs(eigen_vals[i]), eigen_vecs[:,i]) for i in range(len(eigen_vals))]\n",
    "\n",
    "# Sort the (eigenvalue, eigenvector) tuples from high to low\n",
    "eigen_pairs.sort(reverse=True)\n",
    "\n",
    "#form the projection matrix\n",
    "W_2D = np.hstack((eigen_pairs[0][1][:, np.newaxis],\n",
    "               eigen_pairs[1][1][:, np.newaxis]))\n",
    "\n",
    "#you should form a projection matrix which projects from raw-data dimension to 3 dimension here\n",
    "\n",
    "\n",
    "W_3D = np.hstack((eigen_pairs[0][1][:, np.newaxis],\n",
    "               eigen_pairs[1][1][:, np.newaxis],\n",
    "                eigen_pairs[2][1][:, np.newaxis]\n",
    "                  ))"
   ]
  },
  {
   "cell_type": "heading",
   "metadata": {},
   "level": 6,
   "source": [
    "\n",
    "\n",
    "\n",
    "import os\n",
    "import seaborn as sns\n",
    "sns.set(style='whitegrid', context='notebook')\n",
    "\n",
    "#import Axes3D for plottin 3d scatter\n",
    "from mpl_toolkits.mplot3d import Axes3D\n",
    "\n",
    "#cacculate z_pca(2d and 3d)\n",
    "Z_pca2 = Z.dot(W_2D)\n",
    "Z_pca3 = Z.dot(W_3D)\n",
    "\n",
    "\n",
    "\n",
    "#plot settings\n",
    "colors = ['r', 'b', 'g']\n",
    "markers = ['s', 'x', 'o']\n",
    "fig = plt.figure(figsize=(12,6))\n",
    "\n",
    "#plot 2D\n",
    "plt2 = fig.add_subplot(1,2,1)\n",
    "for l, c, m in zip(np.unique(Y_load), colors, markers):\n",
    "    plt2.scatter(Z_pca2[Y_load==l, 0],\n",
    "                Z_pca2[Y_load==l, 1],\n",
    "                c=c, label=l, marker=m)\n",
    "\n",
    "plt.title('Z_pca 2D')\n",
    "plt.xlabel('PC 1')\n",
    "plt.ylabel('PC 2')\n",
    "plt.legend(loc='lower left')\n",
    "plt.tight_layout()\n",
    "\n",
    "#plot 3D\n",
    "plt3 = fig.add_subplot(1,2,2, projection='3d')\n",
    "#you should plot a 3D scatter using plt3.scatter here (see Axes3D.scatter in matplotlib)\n",
    "for l, c, m in zip(np.unique(Y_load), colors, markers):\n",
    "    plt3.scatter(Z_pca3[Y_load==l, 0],\n",
    "                Z_pca3[Y_load==l, 1],\n",
    "                Z_pca3[Y_load==l, 2],\n",
    "                c=c, label=l, marker=m)\n",
    "\n",
    "\n",
    "if not os.path.exists('./output'):\n",
    "    os.makedirs('./output')\n",
    "plt.savefig('./output/fig-pca-2-3-z.png', dpi=300)\n",
    "plt.show()\n",
    "\n",
    "#branch final"
   ]
  },
  {
   "cell_type": "code",
   "execution_count": null,
   "metadata": {},
   "outputs": [],
   "source": [
    "\n"
   ]
  }
 ],
 "metadata": {
  "kernelspec": {
   "display_name": "Python 3",
   "language": "python",
   "name": "python3"
  },
  "language_info": {
   "codemirror_mode": {
    "name": "ipython",
    "version": 3
   },
   "file_extension": ".py",
   "mimetype": "text/x-python",
   "name": "python",
   "nbconvert_exporter": "python",
   "pygments_lexer": "ipython3",
   "version": "3.6.8"
  }
 },
 "nbformat": 4,
 "nbformat_minor": 2
}
